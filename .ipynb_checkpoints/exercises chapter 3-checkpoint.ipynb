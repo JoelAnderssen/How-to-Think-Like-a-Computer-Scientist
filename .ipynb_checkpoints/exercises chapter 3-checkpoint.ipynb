{
 "cells": [
  {
   "cell_type": "code",
   "execution_count": 1,
   "id": "184a5467",
   "metadata": {},
   "outputs": [
    {
     "name": "stdout",
     "output_type": "stream",
     "text": [
      "One of the months of the year is January\n",
      "One of the months of the year is February\n",
      "One of the months of the year is March\n",
      "One of the months of the year is April\n",
      "One of the months of the year is May\n",
      "One of the months of the year is June\n",
      "One of the months of the year is July\n",
      "One of the months of the year is September\n",
      "One of the months of the year is October\n",
      "One of the months of the year is November\n",
      "One of the months of the year is December\n"
     ]
    }
   ],
   "source": [
    "# How to think like a computer scientist: Learning in Python 3\n",
    "# https://openbookproject.net/thinkcs/python/english3e/variables_expressions_statements.html\n",
    "# 3.8. Exercises 3\n",
    "\n",
    "months = [\"January\", \"February\", \"March\", \"April\", \"May\", \"June\", \"July\", \"September\", \"October\", \"November\", \"December\"]\n",
    "\n",
    "for c in months:\n",
    "    print(\"One of the months of the year is {}\".format(c))\n",
    "\n"
   ]
  },
  {
   "cell_type": "code",
   "execution_count": null,
   "id": "6a508564",
   "metadata": {
    "scrolled": true
   },
   "outputs": [],
   "source": [
    "# How to think like a computer scientist: Learning in Python 3\n",
    "# https://openbookproject.net/thinkcs/python/english3e/variables_expressions_statements.html\n",
    "# 3.8. Exercises 3\n",
    "\n",
    "import turtle\n",
    "wn = turtle.Screen()         # Set up the window and its attributes\n",
    "wn.bgcolor(\"lightgreen\")\n",
    "wn.title(\"Tess & Alex\")\n",
    "\n",
    "tess = turtle.Turtle()       # Create tess and set some attributes\n",
    "tess.color(\"black\")\n",
    "tess.pensize(5)\n",
    "\n",
    "\n",
    "\"\"\"\n",
    "# Make tess draw equilateral triangle\n",
    "for i in range(3):\n",
    "    tess.forward(80)\n",
    "    tess.left(120)\n",
    "\"\"\"\n",
    "   \n",
    "\"\"\"        \n",
    "# Make tess draw a square\n",
    "for i in range(4):\n",
    "    tess.forward(100)\n",
    "    tess.left(90)\n",
    "\"\"\"\n",
    "\n",
    "\"\"\"\n",
    "# Make tess draw a hexagon\n",
    "for i in range(6):\n",
    "    tess.forward(80)\n",
    "    tess.left(60)\n",
    "\"\"\"\n",
    "\n",
    "# Make tess draw a octagon\n",
    "for i in range(8):\n",
    "    tess.forward(80)\n",
    "    tess.left(45)\n",
    "\n",
    "\n",
    "wn.mainloop()"
   ]
  },
  {
   "cell_type": "code",
   "execution_count": 2,
   "id": "32ff45b4",
   "metadata": {},
   "outputs": [],
   "source": [
    "# How to think like a computer scientist: Learning in Python 3\n",
    "# https://openbookproject.net/thinkcs/python/english3e/variables_expressions_statements.html\n",
    "# 3.8. Exercises 7\n",
    "\n",
    "import turtle\n",
    "wn = turtle.Screen()         # Set up the window and its attributes\n",
    "wn.bgcolor(\"lightgreen\")\n",
    "wn.title(\"Tess & Alex\")\n",
    "\n",
    "tess = turtle.Turtle()       # Create tess and set some attributes\n",
    "tess.color(\"black\")\n",
    "tess.pensize(5)\n",
    "\n",
    "# Pirate walk\n",
    "turns = [160, -43, 270, -97, -43, 200, -940, 17, -86]\n",
    "\n",
    "for i in range(8):\n",
    "    tess.forward(100)\n",
    "    tess.left(turns[i])"
   ]
  },
  {
   "cell_type": "code",
   "execution_count": null,
   "id": "bdda8e48",
   "metadata": {},
   "outputs": [],
   "source": []
  },
  {
   "cell_type": "code",
   "execution_count": null,
   "id": "bfb4bb51",
   "metadata": {},
   "outputs": [],
   "source": []
  },
  {
   "cell_type": "code",
   "execution_count": null,
   "id": "e9f3be5b",
   "metadata": {},
   "outputs": [],
   "source": []
  },
  {
   "cell_type": "code",
   "execution_count": null,
   "id": "4cc55d6d",
   "metadata": {},
   "outputs": [],
   "source": []
  }
 ],
 "metadata": {
  "kernelspec": {
   "display_name": "Python 3",
   "language": "python",
   "name": "python3"
  },
  "language_info": {
   "codemirror_mode": {
    "name": "ipython",
    "version": 3
   },
   "file_extension": ".py",
   "mimetype": "text/x-python",
   "name": "python",
   "nbconvert_exporter": "python",
   "pygments_lexer": "ipython3",
   "version": "3.8.8"
  }
 },
 "nbformat": 4,
 "nbformat_minor": 5
}
