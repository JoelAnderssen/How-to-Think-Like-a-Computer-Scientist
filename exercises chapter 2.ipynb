{
 "cells": [
  {
   "cell_type": "code",
   "execution_count": 15,
   "id": "2cad53c5",
   "metadata": {},
   "outputs": [
    {
     "name": "stdout",
     "output_type": "stream",
     "text": [
      "> 10\n"
     ]
    },
    {
     "data": {
      "text/plain": [
       "22196.40234544711"
      ]
     },
     "execution_count": 15,
     "metadata": {},
     "output_type": "execute_result"
    }
   ],
   "source": [
    "# How to think like a computer scientist: Learning in Python 3\n",
    "# https://openbookproject.net/thinkcs/python/english3e/variables_expressions_statements.html\n",
    "# 2.14. Exercises 5\n",
    "\n",
    "\n",
    "def comp_int(P, r, n, t):\n",
    "    A = P * (1+(r / n))**(n*t)\n",
    "    return A\n",
    "\n",
    "P = 10000\n",
    "r = 0.08\n",
    "n = 12\n",
    "t = int(input('> '))\n",
    "\n",
    "comp_int(P,r,n,t)"
   ]
  },
  {
   "cell_type": "code",
   "execution_count": 49,
   "id": "ca7ad999",
   "metadata": {},
   "outputs": [
    {
     "data": {
      "text/plain": [
       "2"
      ]
     },
     "execution_count": 49,
     "metadata": {},
     "output_type": "execute_result"
    }
   ],
   "source": [
    "# How to think like a computer scientist: Learning in Python 3\n",
    "# https://openbookproject.net/thinkcs/python/english3e/variables_expressions_statements.html\n",
    "# 2.14. Exercises 8\n",
    "\n",
    "\n",
    "\n",
    "#time now in hours\n",
    "time_now = 14\n",
    "#add hours\n",
    "add_time = 12\n",
    "\n",
    "#function to calculate new time\n",
    "def new_time(time_now, add_time):\n",
    "    for i in range(int(add_time)):\n",
    "        if time_now == 24:\n",
    "            time_now = 1\n",
    "        else:    \n",
    "            time_now += 1\n",
    "    return time_now\n",
    "\n",
    "new_time(time_now, add_time)\n",
    "    \n",
    "    "
   ]
  },
  {
   "cell_type": "code",
   "execution_count": null,
   "id": "e38115c8",
   "metadata": {},
   "outputs": [],
   "source": []
  }
 ],
 "metadata": {
  "kernelspec": {
   "display_name": "Python 3",
   "language": "python",
   "name": "python3"
  },
  "language_info": {
   "codemirror_mode": {
    "name": "ipython",
    "version": 3
   },
   "file_extension": ".py",
   "mimetype": "text/x-python",
   "name": "python",
   "nbconvert_exporter": "python",
   "pygments_lexer": "ipython3",
   "version": "3.8.8"
  }
 },
 "nbformat": 4,
 "nbformat_minor": 5
}
