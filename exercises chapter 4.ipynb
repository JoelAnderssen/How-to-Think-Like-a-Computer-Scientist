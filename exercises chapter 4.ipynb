{
 "cells": [
  {
   "cell_type": "code",
   "execution_count": 1,
   "id": "7221ccd0",
   "metadata": {},
   "outputs": [],
   "source": [
    "# How to think like a computer scientist: Learning in Python 3\n",
    "# https://openbookproject.net/thinkcs/python/english3e/variables_expressions_statements.html\n",
    "# 4.9. Exercise 1\n",
    "\n",
    "\n",
    "import turtle\n",
    "wn = turtle.Screen()         # Set up the window and its attributes\n",
    "wn.bgcolor(\"lightgreen\")\n",
    "wn.title(\"Tess\")\n",
    "\n",
    "tess = turtle.Turtle()       # Create tess and set some attributes\n",
    "tess.color(\"red\")\n",
    "tess.pensize(5)\n",
    "\n",
    "\n",
    "def draw_squares(s, nr):\n",
    "    tess.pendown()\n",
    "    for i in range(nr):\n",
    "        for j in range(4):\n",
    "            tess.forward(s)\n",
    "            tess.left(90)\n",
    "        tess.penup()\n",
    "        tess.forward(s*2)\n",
    "        tess.pendown()\n",
    "\n",
    "write_squares(20,4)"
   ]
  },
  {
   "cell_type": "code",
   "execution_count": 2,
   "id": "ad645e1a",
   "metadata": {},
   "outputs": [],
   "source": []
  },
  {
   "cell_type": "code",
   "execution_count": 1,
   "id": "73cfe8fb",
   "metadata": {},
   "outputs": [],
   "source": []
  },
  {
   "cell_type": "code",
   "execution_count": null,
   "id": "d7831cb9",
   "metadata": {},
   "outputs": [],
   "source": []
  }
 ],
 "metadata": {
  "kernelspec": {
   "display_name": "Python 3",
   "language": "python",
   "name": "python3"
  },
  "language_info": {
   "codemirror_mode": {
    "name": "ipython",
    "version": 3
   },
   "file_extension": ".py",
   "mimetype": "text/x-python",
   "name": "python",
   "nbconvert_exporter": "python",
   "pygments_lexer": "ipython3",
   "version": "3.8.8"
  }
 },
 "nbformat": 4,
 "nbformat_minor": 5
}
