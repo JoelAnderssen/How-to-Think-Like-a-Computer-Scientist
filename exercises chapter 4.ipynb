{
 "cells": [
  {
   "cell_type": "code",
   "execution_count": null,
   "id": "7221ccd0",
   "metadata": {},
   "outputs": [],
   "source": [
    "# How to think like a computer scientist: Learning in Python 3\n",
    "# https://openbookproject.net/thinkcs/python/english3e/variables_expressions_statements.html\n",
    "# 4.9. Exercise 1\n",
    "\n",
    "\n",
    "import turtle\n",
    "wn = turtle.Screen()         # Set up the window and its attributes\n",
    "wn.bgcolor(\"lightgreen\")\n",
    "wn.title(\"Tess\")\n",
    "\n",
    "tess = turtle.Turtle()       # Create tess and set some attributes\n",
    "tess.color(\"red\")\n",
    "tess.pensize(5)\n",
    "\n",
    "\n",
    "def draw_squares(s, nr):\n",
    "    tess.pendown()\n",
    "    for i in range(nr):\n",
    "        for j in range(4):\n",
    "            tess.forward(s)\n",
    "            tess.left(90)\n",
    "        tess.penup()\n",
    "        tess.forward(s*2)\n",
    "        tess.pendown()\n",
    "\n",
    "draw_squares(20,4)"
   ]
  },
  {
   "cell_type": "code",
   "execution_count": null,
   "id": "ad645e1a",
   "metadata": {},
   "outputs": [],
   "source": [
    "# How to think like a computer scientist: Learning in Python 3\n",
    "# https://openbookproject.net/thinkcs/python/english3e/variables_expressions_statements.html\n",
    "# 4.9. Exercise 3\n",
    "\n",
    "import turtle\n",
    "wn = turtle.Screen()\n",
    "wn.bgcolor(\"lightgreen\")\n",
    "tess = turtle.Turtle()       # Create tess and set some attributes\n",
    "tess.color(\"red\")\n",
    "tess.pensize(5)\n",
    "\n",
    "def draw_poly(t,n,sz):\n",
    "    \n",
    "    for i in range(n):\n",
    "        t.forward(sz)\n",
    "        t.left(45)\n",
    "        \n",
    "draw_poly(tess,8,50)\n"
   ]
  },
  {
   "cell_type": "code",
   "execution_count": null,
   "id": "73cfe8fb",
   "metadata": {},
   "outputs": [],
   "source": [
    "# How to think like a computer scientist: Learning in Python 3\n",
    "# https://openbookproject.net/thinkcs/python/english3e/variables_expressions_statements.html\n",
    "# 4.9. Exercise 4\n",
    "\n",
    "\n",
    "import turtle\n",
    "wn = turtle.Screen()\n",
    "wn.bgcolor(\"lightgreen\")\n",
    "tess = turtle.Turtle()       # Create tess and set some attributes\n",
    "tess.color(\"red\")\n",
    "tess.pensize(3)\n",
    "\n",
    "def pretty_pattern():\n",
    "    for i in range(16):\n",
    "        tess.forward(100)\n",
    "        tess.left(90)\n",
    "        tess.forward(100)\n",
    "        tess.left(90)\n",
    "        tess.forward(100)\n",
    "        tess.left(90)\n",
    "        tess.forward(100)\n",
    "        tess.left(22.5)\n",
    "        \n",
    "pretty_pattern()"
   ]
  },
  {
   "cell_type": "code",
   "execution_count": 6,
   "id": "d7831cb9",
   "metadata": {},
   "outputs": [
    {
     "data": {
      "text/plain": [
       "21"
      ]
     },
     "execution_count": 6,
     "metadata": {},
     "output_type": "execute_result"
    }
   ],
   "source": [
    "# How to think like a computer scientist: Learning in Python 3\n",
    "# https://openbookproject.net/thinkcs/python/english3e/variables_expressions_statements.html\n",
    "# 4.9. Exercise 7\n",
    "\n",
    "def sum_to(n):\n",
    "    x = 0\n",
    "    for i in range(n+1):\n",
    "        x +=i\n",
    "    return x\n",
    "\n",
    "sum_to(6)\n"
   ]
  },
  {
   "cell_type": "code",
   "execution_count": 13,
   "id": "c3d3f3d0",
   "metadata": {},
   "outputs": [
    {
     "data": {
      "text/plain": [
       "28.274333882308138"
      ]
     },
     "execution_count": 13,
     "metadata": {},
     "output_type": "execute_result"
    }
   ],
   "source": [
    "# How to think like a computer scientist: Learning in Python 3\n",
    "# https://openbookproject.net/thinkcs/python/english3e/variables_expressions_statements.html\n",
    "# 4.9. Exercise 8\n",
    "\n",
    "import math\n",
    "\n",
    "def area_of_circle(r):\n",
    "    x = math.pi * r**2\n",
    "    return x\n",
    "\n",
    "area_of_circle(3)"
   ]
  },
  {
   "cell_type": "code",
   "execution_count": 16,
   "id": "62c616eb",
   "metadata": {},
   "outputs": [],
   "source": [
    "# How to think like a computer scientist: Learning in Python 3\n",
    "# https://openbookproject.net/thinkcs/python/english3e/variables_expressions_statements.html\n",
    "# 4.9. Exercise 10\n",
    "\n",
    "import turtle\n",
    "wn = turtle.Screen()\n",
    "wn.bgcolor(\"lightgreen\")\n",
    "tess = turtle.Turtle()       # Create tess and set some attributes\n",
    "tess.color(\"red\")\n",
    "tess.pensize(3)\n",
    "\n",
    "def draw_triangle(t,n):\n",
    "    for i in range(5):\n",
    "        t.forward(n)\n",
    "        t.right(144)\n",
    "        \n",
    "draw_triangle(tess,100)\n",
    "\n",
    "\n",
    "\n"
   ]
  },
  {
   "cell_type": "code",
   "execution_count": null,
   "id": "b6a5b7c3",
   "metadata": {},
   "outputs": [],
   "source": []
  }
 ],
 "metadata": {
  "kernelspec": {
   "display_name": "Python 3",
   "language": "python",
   "name": "python3"
  },
  "language_info": {
   "codemirror_mode": {
    "name": "ipython",
    "version": 3
   },
   "file_extension": ".py",
   "mimetype": "text/x-python",
   "name": "python",
   "nbconvert_exporter": "python",
   "pygments_lexer": "ipython3",
   "version": "3.8.8"
  }
 },
 "nbformat": 4,
 "nbformat_minor": 5
}
